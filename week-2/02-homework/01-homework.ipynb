{
  "cells": [
    {
      "cell_type": "markdown",
      "metadata": {
        "id": "jzJ6lOD-dKFp"
      },
      "source": [
        "# Homework: Conditional Logic and Boolean Expressions"
      ]
    },
    {
      "cell_type": "markdown",
      "metadata": {
        "id": "rkKBJ5q9dKFr"
      },
      "source": [
        "## **Submission Guidelines**\n",
        "* Focus on completing Exercises 1, 2 and 3. Exercises 4 and 5 are _stretch challenges_.\n",
        "* Submit your by copy and pasting each exercise into the text submission box for this assessment in brightspace* Clearly label each exercise and include comments to explain your logic.\n",
        "\n",
        "\n",
        "## Instructions"
      ]
    },
    {
      "cell_type": "markdown",
      "metadata": {
        "id": "cIhsC7_hdKFs"
      },
      "source": [
        "\n",
        "Copy this Jupyter Notebook and complete each exercise in the provided spaces.  \n",
        "\n",
        "- Clearly label each exercise and include comments explaining your logic.  \n",
        "- Focus on completing Exercises 1–3; Exercises 4 and 5 are a stretch challenge.\n",
        "- Modify the predefined variables as needed to test different cases.  \n",
        "\n",
        "**Remember to start with the English steps, write pseudocode, then write code.**"
      ]
    },
    {
      "cell_type": "markdown",
      "metadata": {
        "id": "tfh19EEQdKFt"
      },
      "source": [
        "## **Exercise 1: Basic Conditional Statements**"
      ]
    },
    {
      "cell_type": "markdown",
      "metadata": {
        "id": "fRoOQ7ETdKFt"
      },
      "source": [
        "\n",
        "1. **Write a Conditional Statement:** A variable `temperature` is already defined.\n",
        "2. **Use an If-Else Statement:** If the temperature is greater than 80, print `\"It's hot!\"`; otherwise, print `\"It's not too hot.\"`"
      ]
    },
    {
      "cell_type": "code",
      "execution_count": 13,
      "metadata": {
        "id": "5wGRqq_PdKFt",
        "outputId": "fb804e8e-8f7f-44b0-b537-6c4ace266240",
        "colab": {
          "base_uri": "https://localhost:8080/"
        }
      },
      "outputs": [
        {
          "output_type": "stream",
          "name": "stdout",
          "text": [
            "it's not too hot\n"
          ]
        }
      ],
      "source": [
        "# Exercise 1\n",
        "temperature = 75  # Change this value to test different conditions\n",
        "# Your if-else statement here\n",
        "\n",
        "if temperature >= 80:\n",
        "  print(\"its hot!\")\n",
        "else:\n",
        "    print(\"it's not too hot\")\n"
      ]
    },
    {
      "cell_type": "markdown",
      "metadata": {
        "id": "8kdBBWBUdKFu"
      },
      "source": [
        "\n",
        "## **Exercise 2: Logical Operators**"
      ]
    },
    {
      "cell_type": "markdown",
      "metadata": {
        "id": "V18k1xjSdKFv"
      },
      "source": [
        "\n",
        "1. **Boolean Variables:** `is_raining` and `have_umbrella` are already defined.\n",
        "2. **Use Logical Operators:** Write an `if` statement that prints `\"You will stay dry\"` only if you have an umbrella or it's not raining."
      ]
    },
    {
      "cell_type": "code",
      "execution_count": 12,
      "metadata": {
        "id": "DMRf7AsSdKFv",
        "outputId": "46e7d2cd-e3c9-491a-a190-fcd508ace457",
        "colab": {
          "base_uri": "https://localhost:8080/"
        }
      },
      "outputs": [
        {
          "output_type": "stream",
          "name": "stdout",
          "text": [
            "you will not stay dry\n"
          ]
        }
      ],
      "source": [
        "# Exercise 2\n",
        "is_raining = True  # Change this to test\n",
        "have_umbrella = False  # Change this to test\n",
        "# Your conditional logic here\n",
        "if is_raining == True and have_umbrella != False:\n",
        "  print(\"you will stay dry\")\n",
        "else:\n",
        "  print(\"you will not stay dry\")\n",
        "\n"
      ]
    },
    {
      "cell_type": "markdown",
      "metadata": {
        "id": "e6FRPiKRdKFw"
      },
      "source": [
        "## **Exercise 3: Nested Conditions**"
      ]
    },
    {
      "cell_type": "markdown",
      "metadata": {
        "id": "A-oyZvyKdKFw"
      },
      "source": [
        "\n",
        "A **store discount system** follows these rules:\n",
        "- If a customer is a member, they get a 10% discount.\n",
        "- If they spend over $100, they get an additional 5% discount.\n",
        "- If they are not a member, they get no discount.\n",
        "\n",
        "Write a program that calculates the discount using predefined values for `is_member` and `total_spent`."
      ]
    },
    {
      "cell_type": "code",
      "execution_count": 3,
      "metadata": {
        "id": "iKc7J_yCdKFw",
        "outputId": "877d51d9-ec3a-4099-842a-9dab4e3815e7",
        "colab": {
          "base_uri": "https://localhost:8080/"
        }
      },
      "outputs": [
        {
          "output_type": "stream",
          "name": "stdout",
          "text": [
            "you will get a 15% discount\n"
          ]
        }
      ],
      "source": [
        "is_member = True  # Change this value to test\n",
        "total_spent = 120  # Change this value to test\n",
        "# Your logic here\n",
        "if is_member == True and total_spent == 120:\n",
        "  print(\"you will get a 15% discount\")\n"
      ]
    },
    {
      "cell_type": "markdown",
      "metadata": {
        "id": "FjMruLh2dKFw"
      },
      "source": [
        "\n",
        "## **Exercise 4: Manual Number Comparison (Extra Hard)**"
      ]
    },
    {
      "cell_type": "markdown",
      "metadata": {
        "id": "BebUDIP0dKFx"
      },
      "source": [
        "\n",
        "Given three numbers `a, b, c`, determine and print the **largest** and **smallest** **without using built-in functions** like `max()` or `min()`.\n",
        "\n",
        "- **Hint**: You must manually compare each number using nested `if` statements."
      ]
    },
    {
      "cell_type": "code",
      "execution_count": null,
      "metadata": {
        "id": "75H75eFndKFx"
      },
      "outputs": [],
      "source": [
        "# Exercise 5\n",
        "a = 10\n",
        "b = 20\n",
        "c = 15\n",
        "\n",
        "# Your logic here"
      ]
    },
    {
      "cell_type": "markdown",
      "metadata": {
        "id": "P1w0ddYJdKFx"
      },
      "source": [
        "## **Exercise 5: Nested Logical Puzzle (Nearly Impossible)**"
      ]
    },
    {
      "cell_type": "markdown",
      "metadata": {
        "id": "iHLaQ3bwdKFx"
      },
      "source": [
        "\n",
        "You're given four integer variables: `a`, `b`, `c`, and `d`. Write a program to determine and print:\n",
        "\n",
        "1. **The second largest** number among the four variables **without using any built-in functions or sorting**.\n",
        "2. Additionally, identify if the second largest number is **even or odd** and print the result accordingly.\n",
        "\n",
        "You must solve this **only using nested conditional statements and logical operators**.\n",
        "\n",
        "**Example Output:**  \n",
        "```\n",
        "The second largest number is 42\n",
        "The second largest number is even.\n",
        "```\n",
        "\n",
        "This challenge demands careful consideration of multiple comparisons and conditions.\n"
      ]
    },
    {
      "cell_type": "code",
      "execution_count": null,
      "metadata": {
        "id": "8nOp2cWedKFx"
      },
      "outputs": [],
      "source": [
        "# Exercise 5\n",
        "a = 25  # Change this to test\n",
        "b = 42  # Change this to test\n",
        "c = 37  # Change this to test\n",
        "d = 42  # Change this to test\n",
        "\n",
        "# Your logic here\n"
      ]
    },
    {
      "cell_type": "markdown",
      "metadata": {
        "id": "99ngMuW_dKFx"
      },
      "source": [
        "\n",
        "\n",
        "## **Submission Guidelines**"
      ]
    },
    {
      "cell_type": "markdown",
      "metadata": {
        "id": "uMsDiXgvdKFy"
      },
      "source": [
        "\n",
        "- Submit your work as a single Python file (`.py`) or a Jupyter Notebook (`.ipynb`).\n",
        "- Clearly label each exercise and include comments to explain your logic.\n",
        "- Focus on completing Exercises 1–3; Exercises 4 and 5 are a stretch challenge.\n"
      ]
    }
  ],
  "metadata": {
    "kernelspec": {
      "display_name": "Python 3",
      "language": "python",
      "name": "python3"
    },
    "language_info": {
      "codemirror_mode": {
        "name": "ipython",
        "version": 3
      },
      "file_extension": ".py",
      "mimetype": "text/x-python",
      "name": "python",
      "nbconvert_exporter": "python",
      "pygments_lexer": "ipython3",
      "version": "3.12.2"
    },
    "colab": {
      "provenance": []
    }
  },
  "nbformat": 4,
  "nbformat_minor": 0
}