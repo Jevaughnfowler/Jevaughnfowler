{
  "cells": [
    {
      "cell_type": "markdown",
      "metadata": {
        "id": "-hcSDj9R4bml"
      },
      "source": [
        "# Homework: Advanced Conditional Logic"
      ]
    },
    {
      "cell_type": "markdown",
      "metadata": {
        "id": "V7IKUkS34bmn"
      },
      "source": [
        "## **Submission Guidelines**"
      ]
    },
    {
      "cell_type": "markdown",
      "metadata": {
        "id": "LT8w6UMk4bmn"
      },
      "source": [
        "* Focus on completing Exercises 1–4; Exercise 5 is a stretch challenge.\n",
        "* Submit your by copy and pasting each exercise into the text submission box for this assessment in brightspace\n",
        "* Clearly label each exercise and include comments to explain your logic."
      ]
    },
    {
      "cell_type": "code",
      "execution_count": null,
      "metadata": {
        "id": "2uc_UUFj4bmn"
      },
      "outputs": [],
      "source": []
    },
    {
      "cell_type": "markdown",
      "metadata": {
        "id": "wDIWP9DI4bmn"
      },
      "source": [
        "\n",
        "\n",
        "## Instructions"
      ]
    },
    {
      "cell_type": "markdown",
      "metadata": {
        "id": "NsRx9NkN4bmn"
      },
      "source": [
        "\n",
        "Copy this Jupyter Notebook and complete each exercise in the provided spaces.  \n",
        "\n",
        "- Clearly label each exercise and include comments explaining your logic.  \n",
        "- Focus on completing Exercises 1–4; Exercise 5 is a stretch challenge.\n",
        "- Modify the predefined variables as needed to test different cases.  \n",
        "\n",
        "**Remember to start with the English steps, write pseudocode, then write code.**"
      ]
    },
    {
      "cell_type": "markdown",
      "metadata": {
        "id": "2joF8BHw4bmo"
      },
      "source": [
        "## **Exercise 1: Multi-Condition Decisions**"
      ]
    },
    {
      "cell_type": "markdown",
      "metadata": {
        "id": "pz92Vm9y4bmo"
      },
      "source": [
        "\n",
        "A **movie rating system** follows these rules:\n",
        "   - If `age` is **less than 13**, print `\"PG movies only\"`.\n",
        "   - If `age` is **between 13 and 17**, print `\"PG-13 movies allowed\"`.\n",
        "   - Otherwise, print `\"All movies allowed\"`."
      ]
    },
    {
      "cell_type": "code",
      "execution_count": 14,
      "metadata": {
        "id": "hDiTu7IU4bmo",
        "outputId": "9fa97b54-4fde-4c8d-9f68-d64e921c8ba7",
        "colab": {
          "base_uri": "https://localhost:8080/"
        }
      },
      "outputs": [
        {
          "output_type": "stream",
          "name": "stdout",
          "text": [
            "All movies allowed\n"
          ]
        }
      ],
      "source": [
        "# Exercise 1\n",
        "age = 15  # Change this value to test\n",
        "# Your logic here\n",
        "age = 25\n",
        "\n",
        "if age <= 13:\n",
        "  print(\"PG movies only\")\n",
        "if age >= 13 and age <= 17:\n",
        "  print(\"PG-13 movies allowed\")\n",
        "if age >= 18:\n",
        "  print(\"All movies allowed\")\n"
      ]
    },
    {
      "cell_type": "markdown",
      "metadata": {
        "id": "4DvfnRpv4bmo"
      },
      "source": [
        "## **Exercise 2: Decision Tree for Discounts**"
      ]
    },
    {
      "cell_type": "markdown",
      "metadata": {
        "id": "yGubUGLa4bmo"
      },
      "source": [
        "\n",
        "A **discount system** follows these rules:\n",
        "- If `is_student` is `True`, apply a 20% discount.\n",
        "- If `age` is **65 or older**, apply a 15% discount.\n",
        "- If both conditions are met, apply the higher discount only."
      ]
    },
    {
      "cell_type": "code",
      "execution_count": 11,
      "metadata": {
        "id": "KicGlDVL4bmo",
        "outputId": "85a5d411-f59b-4363-fe3a-f4d4a93f4615",
        "colab": {
          "base_uri": "https://localhost:8080/"
        }
      },
      "outputs": [
        {
          "output_type": "stream",
          "name": "stdout",
          "text": [
            "apply a 20% discount\n"
          ]
        }
      ],
      "source": [
        "# Exercise 2\n",
        "is_student = False  # Change this value to test\n",
        "age = 70  # Change this value to test\n",
        "\n",
        "# Your logic here\n",
        "is_student = True\n",
        "age = 50\n",
        "\n",
        "if is_student >= True:\n",
        "   print(\"apply a 20% discount\")\n",
        "elif age >= 65:\n",
        "   print(\"apply a 15% discount\")\n",
        "elif age >= 65 and is_student >= True:\n",
        "   print(\"apply the higher discount only\")\n",
        "\n",
        "\n"
      ]
    },
    {
      "cell_type": "markdown",
      "metadata": {
        "id": "VsVGhXK14bmo"
      },
      "source": [
        "\n",
        "## **Exercise 3: Loan Approval System**"
      ]
    },
    {
      "cell_type": "markdown",
      "metadata": {
        "id": "2-NUNIsF4bmp"
      },
      "source": [
        "\n",
        "A **loan approval system** follows these rules:\n",
        "- Applicant **must be at least 18**.\n",
        "- Loan is **approved** if `income` is over **40k** OR `credit_score` is above **700**.\n",
        "- If the applicant has `has_debt = True`, then **both** conditions are required."
      ]
    },
    {
      "cell_type": "code",
      "execution_count": 52,
      "metadata": {
        "id": "cpods4B74bmp",
        "outputId": "366b588b-a57f-4881-ce4b-82062f0c4209",
        "colab": {
          "base_uri": "https://localhost:8080/"
        }
      },
      "outputs": [
        {
          "output_type": "stream",
          "name": "stdout",
          "text": [
            "loan approve\n",
            "loan approve\n"
          ]
        }
      ],
      "source": [
        "# Exercise 3\n",
        "age = 30  # Change this value to test\n",
        "income = 45000  # Change this value to test\n",
        "credit_score = 710  # Change this value to test\n",
        "has_debt = False  # Change this value to test\n",
        "\n",
        "\n",
        "# Your logic here\n",
        "age = 30\n",
        "income = 45000\n",
        "credit_score = 710\n",
        "has_debt = True\n",
        "\n",
        "if age >= 18:\n",
        "  if has_debt == False and income >= 40000 or credit_score >= 700:\n",
        "     print(\"loan approve\")\n",
        "if has_debt == True:\n",
        "  if income >= 40000 and credit_score >= 700:\n",
        "    print(\"loan approve\")"
      ]
    },
    {
      "cell_type": "markdown",
      "metadata": {
        "id": "RnIi6wdB4bmp"
      },
      "source": [
        "## **Exercise 4: Complex Weather Decision System**"
      ]
    },
    {
      "cell_type": "markdown",
      "metadata": {
        "id": "7BQHXh314bmp"
      },
      "source": [
        "\n",
        "A **weather advisory system** follows these rules:\n",
        "- If `temperature` is **below 32°F**, print `\"Freezing warning\"`.\n",
        "- If `temperature` is **between 32°F and 50°F**, print `\"Cold weather\"`.\n",
        "- If `temperature` is **above 50°F** and `humidity` is **above 70%**, print `\"Warm but humid\"`.\n",
        "- Otherwise, print `\"Mild weather\"`.\n"
      ]
    },
    {
      "cell_type": "code",
      "execution_count": 33,
      "metadata": {
        "id": "uLJdkJwY4bmp"
      },
      "outputs": [],
      "source": [
        "# Exercise 4\n",
        "temperature = 55  # Change this value to test\n",
        "humidity = 80  # Change this value to test\n",
        "# Your logic here\n",
        "temperature = 100\n",
        "humidity = 20\n",
        "\n",
        "if temperature <= 32:\n",
        "  print(\"Freezing warning\")\n",
        "if temperature == 32 and temperature >= 50:\n",
        "  print(\"Cold weather\")\n",
        "if temperature >= 50 and humidity >= 70:\n",
        "  print(\"Warm but humid\")\n",
        "if temperature == 65:\n",
        "  print(\"Mild weather\")"
      ]
    },
    {
      "cell_type": "markdown",
      "metadata": {
        "id": "O5XxlozQ4bmp"
      },
      "source": [
        "## **Exercise 5: Advanced Multi-Step Bank Security System (Extra Hard)**"
      ]
    },
    {
      "cell_type": "markdown",
      "metadata": {
        "id": "0qWdB5yS4bmp"
      },
      "source": [
        "\n",
        "Design a **bank security system** that follows these rules:\n",
        "- If `is_employee = True`, grant full access.\n",
        "- If `is_manager = True`, grant access to sensitive files.\n",
        "- If `is_customer = True` and `account_balance > 1000`, allow transactions.\n",
        "- If none of the conditions apply, print `\"Access Denied\"`.\n",
        "- **Extended Rule:** If `security_alert = True`, deny all access regardless of other conditions."
      ]
    },
    {
      "cell_type": "code",
      "execution_count": null,
      "metadata": {
        "id": "v9XwADYw4bmp"
      },
      "outputs": [],
      "source": [
        "# Exercise 5\n",
        "is_employee = False  # Change this value to test\n",
        "is_manager = False  # Change this value to test\n",
        "is_customer = True  # Change this value to test\n",
        "account_balance = 5000  # Change this value to test\n",
        "security_alert = False  # Change this value to test\n",
        "# Your logic here\n"
      ]
    },
    {
      "cell_type": "markdown",
      "metadata": {
        "id": "6XPsjxgk4bmp"
      },
      "source": [
        "## **Submission Guidelines**"
      ]
    },
    {
      "cell_type": "markdown",
      "metadata": {
        "id": "q_giEM9O4bmp"
      },
      "source": [
        "\n",
        "- Submit your work as a `.py` or `.ipynb` file.\n",
        "- Clearly label each exercise and include comments.\n",
        "- Focus on completing Exercises 1–4; Exercise 5 is a stretch challenge.\n",
        "- Have fun practicing your advanced conditionals!"
      ]
    }
  ],
  "metadata": {
    "language_info": {
      "name": "python"
    },
    "colab": {
      "provenance": []
    },
    "kernelspec": {
      "name": "python3",
      "display_name": "Python 3"
    }
  },
  "nbformat": 4,
  "nbformat_minor": 0
}